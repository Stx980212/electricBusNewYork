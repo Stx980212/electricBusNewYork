{
 "cells": [
  {
   "cell_type": "markdown",
   "metadata": {},
   "source": [
    "# New York Bus Data"
   ]
  },
  {
   "cell_type": "markdown",
   "metadata": {},
   "source": [
    "## Download Static Data"
   ]
  },
  {
   "cell_type": "code",
   "execution_count": 108,
   "metadata": {},
   "outputs": [],
   "source": [
    "import requests\n",
    "from bs4 import BeautifulSoup\n",
    "import re\n",
    "from io import BytesIO\n",
    "import zipfile\n",
    "import pandas as pd"
   ]
  },
  {
   "cell_type": "code",
   "execution_count": 109,
   "metadata": {},
   "outputs": [],
   "source": [
    "url = \"http://web.mta.info/developers/developer-data-terms.html#data\"\n",
    "html = requests.get(url).text"
   ]
  },
  {
   "cell_type": "code",
   "execution_count": 110,
   "metadata": {},
   "outputs": [
    {
     "name": "stdout",
     "output_type": "stream",
     "text": [
      "87\n"
     ]
    }
   ],
   "source": [
    "soup = BeautifulSoup(html, \"html5lib\")\n",
    "\n",
    "all_urls = [a[\"href\"] for a in soup(\"a\") if a.has_attr(\"href\")]\n",
    "\n",
    "print(len(all_urls))"
   ]
  },
  {
   "cell_type": "code",
   "execution_count": 111,
   "metadata": {},
   "outputs": [
    {
     "name": "stdout",
     "output_type": "stream",
     "text": [
      "5\n"
     ]
    }
   ],
   "source": [
    "regex = r\"data/nyct/bus/google_transit_.*.zip\"\n",
    "\n",
    "bus_urls = [url for url in all_urls if re.match(regex, url)]\n",
    "\n",
    "print(len(bus_urls))"
   ]
  },
  {
   "cell_type": "code",
   "execution_count": 112,
   "metadata": {},
   "outputs": [],
   "source": [
    "BASE_URL = \"http://web.mta.info/developers\"\n",
    "\n",
    "OUTPUT_DIR = \"mta_bus_data\"\n",
    "\n",
    "for bus_url in bus_urls:\n",
    "    content = requests.get(f\"{BASE_URL}/{bus_url}\").content\n",
    "    fin = BytesIO(content)\n",
    "    with zipfile.ZipFile(fin, \"r\") as zip_ref:\n",
    "        borough = bus_url[bus_url.rfind(\"/\") + 1:bus_url.rfind(\".zip\")]\n",
    "        zip_ref.extractall(f\"{OUTPUT_DIR}/{borough}\")"
   ]
  }
 ],
 "metadata": {
  "kernelspec": {
   "display_name": "Python 3",
   "language": "python",
   "name": "python3"
  },
  "language_info": {
   "codemirror_mode": {
    "name": "ipython",
    "version": 3
   },
   "file_extension": ".py",
   "mimetype": "text/x-python",
   "name": "python",
   "nbconvert_exporter": "python",
   "pygments_lexer": "ipython3",
   "version": "3.7.6"
  }
 },
 "nbformat": 4,
 "nbformat_minor": 4
}
