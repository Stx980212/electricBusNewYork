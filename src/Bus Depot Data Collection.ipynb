{
 "cells": [
  {
   "cell_type": "code",
   "execution_count": 46,
   "metadata": {},
   "outputs": [],
   "source": [
    "import pandas as pd\n",
    "import requests\n",
    "from bs4 import BeautifulSoup"
   ]
  },
  {
   "cell_type": "code",
   "execution_count": 47,
   "metadata": {},
   "outputs": [],
   "source": [
    "BASE_URL = \"https://www.ttmg.org/insidersguide/new-york-mta-bus-roster/new-york-mta-bus-roster-depot/\"\n",
    "html = requests.get(DEPOT_URL).text\n",
    "soup = BeautifulSoup(html, \"html5lib\")"
   ]
  },
  {
   "cell_type": "code",
   "execution_count": 55,
   "metadata": {},
   "outputs": [
    {
     "name": "stdout",
     "output_type": "stream",
     "text": [
      "['Bronx Division', 'Manhattan Division', 'Queens Division', 'Brooklyn Division', 'Staten Island Division']\n"
     ]
    }
   ],
   "source": [
    "divisions = list()\n",
    "for division in soup.findAll(\"span\", {\"class\": \"mw-headline\"}):\n",
    "    divisions.append(division.getText().strip())\n",
    "print(divisions)"
   ]
  },
  {
   "cell_type": "code",
   "execution_count": 127,
   "metadata": {},
   "outputs": [],
   "source": [
    "bronx_df = manhattan_df = queens_df = brooklyn_df = si_df = pd.DataFrame()\n",
    "bronx, manhattan, queens, brooklyn, si = soup.findAll(\"table\", {\"style\": \"border-spacing: 2px; border: 3px solid white; font-size: 90%; width: 100%\"})\n",
    "boroughs = {\"Bronx\": bronx, \"Manhattan\": manhattan, \"Queens\": queens, \"Brooklyn\": brooklyn, \"Staten Island\": si}"
   ]
  },
  {
   "cell_type": "code",
   "execution_count": 132,
   "metadata": {},
   "outputs": [],
   "source": [
    "import re\n",
    "\n",
    "def save_depot_information(boroughs):\n",
    "    df = pd.DataFrame(columns=[\"Borough\", \"Address\", \"Total buses\"])\n",
    "    for borough_name in boroughs:\n",
    "        borough = boroughs[borough_name]\n",
    "        for facility in borough.findAll(\"tr\", {\"style\": \"background:#000000; color:#FFFFFF\", \"align\": \"left\"}):\n",
    "            data = facility.find(\"td\").getText()\n",
    "            information = data.split(\"\\n\")\n",
    "            name, address, total_buses = information[1], re.sub(r\"\\([^)]*\\), \", \"\", information[2]), int(information[3][information[3].rfind(\" \") + 1:])\n",
    "            df.loc[name, [\"Borough\", \"Address\", \"Total buses\"]] = borough_name, address, total_buses\n",
    "    df.index.name = \"Depot\"\n",
    "    return df"
   ]
  },
  {
   "cell_type": "code",
   "execution_count": 134,
   "metadata": {},
   "outputs": [
    {
     "data": {
      "text/html": [
       "<div>\n",
       "<style scoped>\n",
       "    .dataframe tbody tr th:only-of-type {\n",
       "        vertical-align: middle;\n",
       "    }\n",
       "\n",
       "    .dataframe tbody tr th {\n",
       "        vertical-align: top;\n",
       "    }\n",
       "\n",
       "    .dataframe thead th {\n",
       "        text-align: right;\n",
       "    }\n",
       "</style>\n",
       "<table border=\"1\" class=\"dataframe\">\n",
       "  <thead>\n",
       "    <tr style=\"text-align: right;\">\n",
       "      <th></th>\n",
       "      <th>Borough</th>\n",
       "      <th>Address</th>\n",
       "      <th>Total buses</th>\n",
       "    </tr>\n",
       "    <tr>\n",
       "      <th>Depot</th>\n",
       "      <th></th>\n",
       "      <th></th>\n",
       "      <th></th>\n",
       "    </tr>\n",
       "  </thead>\n",
       "  <tbody>\n",
       "    <tr>\n",
       "      <th>Eastchester Depot (EC)</th>\n",
       "      <td>Bronx</td>\n",
       "      <td>3320 Tillotson Av, Bronx, NY 10475</td>\n",
       "      <td>142</td>\n",
       "    </tr>\n",
       "    <tr>\n",
       "      <th>Gun Hill Depot (GH)</th>\n",
       "      <td>Bronx</td>\n",
       "      <td>1910 Bartow Av, Bronx, NY 10469</td>\n",
       "      <td>284</td>\n",
       "    </tr>\n",
       "    <tr>\n",
       "      <th>Kingsbridge Depot (KB)</th>\n",
       "      <td>Bronx</td>\n",
       "      <td>4065 10th Av, New York, NY 10034</td>\n",
       "      <td>272</td>\n",
       "    </tr>\n",
       "    <tr>\n",
       "      <th>West Farms Depot (WF)</th>\n",
       "      <td>Bronx</td>\n",
       "      <td>Bronx Division Headquarters, 1100 E 177th St, ...</td>\n",
       "      <td>321</td>\n",
       "    </tr>\n",
       "    <tr>\n",
       "      <th>Yonkers Depot (YO)</th>\n",
       "      <td>Bronx</td>\n",
       "      <td>59 Babcock Pl, Yonkers, NY 10701</td>\n",
       "      <td>84</td>\n",
       "    </tr>\n",
       "  </tbody>\n",
       "</table>\n",
       "</div>"
      ],
      "text/plain": [
       "                        Borough  \\\n",
       "Depot                             \n",
       " Eastchester Depot (EC)   Bronx   \n",
       " Gun Hill Depot (GH)      Bronx   \n",
       " Kingsbridge Depot (KB)   Bronx   \n",
       " West Farms Depot (WF)    Bronx   \n",
       " Yonkers Depot (YO)       Bronx   \n",
       "\n",
       "                                                                   Address  \\\n",
       "Depot                                                                        \n",
       " Eastchester Depot (EC)                 3320 Tillotson Av, Bronx, NY 10475   \n",
       " Gun Hill Depot (GH)                       1910 Bartow Av, Bronx, NY 10469   \n",
       " Kingsbridge Depot (KB)                   4065 10th Av, New York, NY 10034   \n",
       " West Farms Depot (WF)   Bronx Division Headquarters, 1100 E 177th St, ...   \n",
       " Yonkers Depot (YO)                       59 Babcock Pl, Yonkers, NY 10701   \n",
       "\n",
       "                        Total buses  \n",
       "Depot                                \n",
       " Eastchester Depot (EC)         142  \n",
       " Gun Hill Depot (GH)            284  \n",
       " Kingsbridge Depot (KB)         272  \n",
       " West Farms Depot (WF)          321  \n",
       " Yonkers Depot (YO)              84  "
      ]
     },
     "execution_count": 134,
     "metadata": {},
     "output_type": "execute_result"
    }
   ],
   "source": [
    "depots_df = save_depot_information(boroughs)\n",
    "depots_df.head()"
   ]
  },
  {
   "cell_type": "code",
   "execution_count": 136,
   "metadata": {},
   "outputs": [],
   "source": [
    "depots_df.to_csv(\"depot_data/depots.csv\")"
   ]
  },
  {
   "cell_type": "code",
   "execution_count": null,
   "metadata": {},
   "outputs": [],
   "source": []
  }
 ],
 "metadata": {
  "kernelspec": {
   "display_name": "Python 3",
   "language": "python",
   "name": "python3"
  },
  "language_info": {
   "codemirror_mode": {
    "name": "ipython",
    "version": 3
   },
   "file_extension": ".py",
   "mimetype": "text/x-python",
   "name": "python",
   "nbconvert_exporter": "python",
   "pygments_lexer": "ipython3",
   "version": "3.7.6"
  }
 },
 "nbformat": 4,
 "nbformat_minor": 4
}
