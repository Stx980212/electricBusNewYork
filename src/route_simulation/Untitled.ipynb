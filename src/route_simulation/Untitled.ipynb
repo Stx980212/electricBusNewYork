{
 "cells": [
  {
   "cell_type": "markdown",
   "metadata": {},
   "source": [
    "# Route Simulation"
   ]
  },
  {
   "cell_type": "markdown",
   "metadata": {},
   "source": [
    "## Route Network"
   ]
  },
  {
   "cell_type": "code",
   "execution_count": 114,
   "metadata": {},
   "outputs": [],
   "source": [
    "from typing import List, Dict, Set\n",
    "\n",
    "class Edge(object):\n",
    "    def __init__(self, length:float, next_stop:Stop):\n",
    "        self._length = length # Km\n",
    "        self._next_stop = next_stop\n",
    "        \n",
    "    @property\n",
    "    def length(self) -> int:\n",
    "        return self._length\n",
    "    \n",
    "    @property\n",
    "    def next_stop(self) -> Stop:\n",
    "        return self._next_stop\n",
    "    \n",
    "    def __str__(self) -> str:\n",
    "        return f\"{self.length} Km to {self.next_stop}\"\n",
    "    \n",
    "    def __repr__(self) -> str:\n",
    "        return f\"{self.length} Km to {self.next_stop}\"\n",
    "\n",
    "class Stop(object):\n",
    "    def __init__(self, name:str, edges:Dict[str,Edge]=None):\n",
    "        self._name = name\n",
    "        self.edges = edges\n",
    "        \n",
    "    @property\n",
    "    def name(self) -> str:\n",
    "        return self._name\n",
    "    \n",
    "    def __str__(self) -> str:\n",
    "        return f\"{self.name}\"\n",
    "    \n",
    "    def __repr__(self) -> str:\n",
    "        return f\"{self.name}\"\n",
    "    \n",
    "class Route(object):\n",
    "    def __init__(self, name:str):\n",
    "        self._name = name\n",
    "        self.stops = dict()\n",
    "        self.buses = set()\n",
    "        \n",
    "    @property\n",
    "    def name(self) -> str:\n",
    "        return self._name\n",
    "    \n",
    "    def get_other_direction(self, cur_direction) -> str:\n",
    "        for direction in stops:\n",
    "            if direction != cur_direction:\n",
    "                return direction\n",
    "        return \"No other direction\"\n",
    "    \n",
    "    def add_stop(self, stop:Stop, direction:str):\n",
    "        if direction not in self.stops:\n",
    "            self.stops[direction] = list()\n",
    "        self.stops[direction].append(stop)\n",
    "        \n",
    "    def add_bus(self, bus:Bus):\n",
    "        self.buses.add(bus)\n",
    "    \n",
    "    def __str__(self) -> str:\n",
    "        return f\"{self.stops}\"\n",
    "    \n",
    "    def __repr__(self) -> str:\n",
    "        return f\"{self.stops}\"\n",
    "            \n",
    "class StopNetwork(object):\n",
    "    def __init__(self):\n",
    "        self.stops = dict() # Dictionary of Stop name -> Stop object\n",
    "        self.routes = dict() # Dictionary of Route name -> Route object\n",
    "        \n",
    "    def add_edge(self, origin_name:str, dest_name:str, route_name:str, route_direction:str, length:float):\n",
    "        # Populate stops dictionary\n",
    "        if origin_name not in self.stops:\n",
    "            self.stops[origin_name] = Stop(origin_name, {})\n",
    "        if dest_name not in self.stops:\n",
    "            self.stops[dest_name] = Stop(dest_name, {})\n",
    "        self.stops[origin_name].edges[route_direction] = Edge(length, self.stops[dest_name])\n",
    "        \n",
    "        # Populate routes dictionary\n",
    "        if route_name not in self.routes:\n",
    "            self.routes[route_name] = Route(route_name)\n",
    "        self.routes[route_name].add_stop(self.stops[origin_name], route_direction)\n",
    "        \n",
    "    def add_bus(self, route_name:str, route_direction:str, cur_stop_name:str, bus_id:int, speed:float):\n",
    "        new_bus = Bus(bus_id, speed, self.stops[cur_stop_name], self.routes[route_name], route_direction)\n",
    "        self.routes[route_name].add_bus(new_bus)\n",
    "        \n",
    "    def move_all_buses(self, timestep:float):\n",
    "        for route in self.routes.values():\n",
    "            for bus in route.buses:\n",
    "                print(bus)\n",
    "                bus.move(timestep)"
   ]
  },
  {
   "cell_type": "markdown",
   "metadata": {},
   "source": [
    "## Bus model"
   ]
  },
  {
   "cell_type": "code",
   "execution_count": 115,
   "metadata": {},
   "outputs": [],
   "source": [
    "class Bus(object):\n",
    "    def __init__(self, bus_id:int, speed:float, cur_stop:Stop, route:Route, route_direction:str):\n",
    "        self._id = bus_id\n",
    "        self.speed = speed # Km/h\n",
    "        self.route = route\n",
    "        self.cur_stop = cur_stop\n",
    "        self.route_direction = route_direction\n",
    "        self.distance_to_next_stop = cur_stop.edges[route_direction].length\n",
    "    \n",
    "    def move(self, timestep:float): # timestep in seconds\n",
    "        self.distance_to_next_stop -= timestep * self.speed / 3600\n",
    "        if self.distance_to_next_stop <= 0: # arrived at next stop\n",
    "            self.cur_stop = self.cur_stop.edges[self.route_direction].next_stop\n",
    "            if self.route_direction not in self.cur_stop.edges: # Got to the end of direction\n",
    "                self.route_direction = self.route.get_other_direction(self.route_direction)\n",
    "            self.distance_to_next_stop = self.cur_stop.edges[self.route_direction].length\n",
    "            \n",
    "    @property\n",
    "    def id(self) -> int:\n",
    "        return self._id\n",
    "    \n",
    "    def __str__(self) -> str:\n",
    "        return f\"{self.id} {self.distance_to_next_stop} Km from {self.cur_stop}\"\n",
    "    \n",
    "    def __repr__(self) -> str:\n",
    "        return f\"{self.id} {self.distance_to_next_stop} Km from {self.cur_stop}\""
   ]
  },
  {
   "cell_type": "markdown",
   "metadata": {},
   "source": [
    "## Initialize stop network"
   ]
  },
  {
   "cell_type": "code",
   "execution_count": 116,
   "metadata": {},
   "outputs": [],
   "source": [
    "stop_network = StopNetwork()"
   ]
  },
  {
   "cell_type": "markdown",
   "metadata": {},
   "source": [
    "## M14D-SBS"
   ]
  },
  {
   "cell_type": "code",
   "execution_count": 117,
   "metadata": {},
   "outputs": [],
   "source": [
    "direction = \"M14D-SBS to SELECT BUS CHLSEA PIERS 11 AV via 14 ST\"\n",
    "stop_names = [\n",
    "    \"DELANCEY ST/COLUMBIA ST\",\n",
    "    \"COLUMBIA ST/RIVINGTON ST\",\n",
    "    \"AV D/E HOUSTON ST\",\n",
    "    \"AV D/E 5 ST\",\n",
    "    \"E 10 ST/AV D\",\n",
    "    \"AV C/E 11 ST\",\n",
    "    \"E 14 ST/AV C\",\n",
    "    \"E 14 ST/AV B\",\n",
    "    \"E 14 ST/AV A\",\n",
    "    \"E 14 ST/1 AV\",\n",
    "    \"E 14 ST/2 AV\",\n",
    "    \"E 14 ST/3 AV\",\n",
    "    \"E 14 ST/4 AV\",\n",
    "    \"E 14 ST/UNION SQ W\",\n",
    "    \"W 14 ST/5 AV\",\n",
    "    \"W 14 ST/6 AV\",\n",
    "    \"W 14 ST/7 AV\",\n",
    "    \"W 14 ST/8 AV\",\n",
    "    \"W 14 ST/9 AV\",\n",
    "    \"W 14 St/10 AV\",\n",
    "    \"11 AV/W 15 ST\",\n",
    "    \"11 AV / W 17 ST\"\n",
    "]\n",
    "distances = [\n",
    "    0.167,\n",
    "    0.280,\n",
    "    0.255,\n",
    "    0.387,\n",
    "    0.244,\n",
    "    0.318,\n",
    "    0.175,\n",
    "    0.226,\n",
    "    0.550,\n",
    "    0.339,\n",
    "    0.199,\n",
    "    0.178,\n",
    "    0.265,\n",
    "    0.195,\n",
    "    0.309,\n",
    "    0.259,\n",
    "    0.278,\n",
    "    0.286,\n",
    "    0.140,\n",
    "    0.268,\n",
    "    0.126\n",
    "]\n",
    "for i in range(1, len(stop_names)):\n",
    "    origin_name = stop_names[i - 1]\n",
    "    dest_name = stop_names[i]\n",
    "    length = distances[i - 1]\n",
    "    stop_network.add_edge(origin_name, dest_name, \"M14D-SBS\", direction, length)"
   ]
  },
  {
   "cell_type": "code",
   "execution_count": 118,
   "metadata": {},
   "outputs": [
    {
     "name": "stdout",
     "output_type": "stream",
     "text": [
      "DELANCEY ST/COLUMBIA ST {'M14D-SBS to SELECT BUS CHLSEA PIERS 11 AV via 14 ST': 0.167 Km to COLUMBIA ST/RIVINGTON ST}\n",
      "COLUMBIA ST/RIVINGTON ST {'M14D-SBS to SELECT BUS CHLSEA PIERS 11 AV via 14 ST': 0.28 Km to AV D/E HOUSTON ST}\n",
      "AV D/E HOUSTON ST {'M14D-SBS to SELECT BUS CHLSEA PIERS 11 AV via 14 ST': 0.255 Km to AV D/E 5 ST}\n",
      "AV D/E 5 ST {'M14D-SBS to SELECT BUS CHLSEA PIERS 11 AV via 14 ST': 0.387 Km to E 10 ST/AV D}\n",
      "E 10 ST/AV D {'M14D-SBS to SELECT BUS CHLSEA PIERS 11 AV via 14 ST': 0.244 Km to AV C/E 11 ST}\n",
      "AV C/E 11 ST {'M14D-SBS to SELECT BUS CHLSEA PIERS 11 AV via 14 ST': 0.318 Km to E 14 ST/AV C}\n",
      "E 14 ST/AV C {'M14D-SBS to SELECT BUS CHLSEA PIERS 11 AV via 14 ST': 0.175 Km to E 14 ST/AV B}\n",
      "E 14 ST/AV B {'M14D-SBS to SELECT BUS CHLSEA PIERS 11 AV via 14 ST': 0.226 Km to E 14 ST/AV A}\n",
      "E 14 ST/AV A {'M14D-SBS to SELECT BUS CHLSEA PIERS 11 AV via 14 ST': 0.55 Km to E 14 ST/1 AV}\n",
      "E 14 ST/1 AV {'M14D-SBS to SELECT BUS CHLSEA PIERS 11 AV via 14 ST': 0.339 Km to E 14 ST/2 AV}\n",
      "E 14 ST/2 AV {'M14D-SBS to SELECT BUS CHLSEA PIERS 11 AV via 14 ST': 0.199 Km to E 14 ST/3 AV}\n",
      "E 14 ST/3 AV {'M14D-SBS to SELECT BUS CHLSEA PIERS 11 AV via 14 ST': 0.178 Km to E 14 ST/4 AV}\n",
      "E 14 ST/4 AV {'M14D-SBS to SELECT BUS CHLSEA PIERS 11 AV via 14 ST': 0.265 Km to E 14 ST/UNION SQ W}\n",
      "E 14 ST/UNION SQ W {'M14D-SBS to SELECT BUS CHLSEA PIERS 11 AV via 14 ST': 0.195 Km to W 14 ST/5 AV}\n",
      "W 14 ST/5 AV {'M14D-SBS to SELECT BUS CHLSEA PIERS 11 AV via 14 ST': 0.309 Km to W 14 ST/6 AV}\n",
      "W 14 ST/6 AV {'M14D-SBS to SELECT BUS CHLSEA PIERS 11 AV via 14 ST': 0.259 Km to W 14 ST/7 AV}\n",
      "W 14 ST/7 AV {'M14D-SBS to SELECT BUS CHLSEA PIERS 11 AV via 14 ST': 0.278 Km to W 14 ST/8 AV}\n",
      "W 14 ST/8 AV {'M14D-SBS to SELECT BUS CHLSEA PIERS 11 AV via 14 ST': 0.286 Km to W 14 ST/9 AV}\n",
      "W 14 ST/9 AV {'M14D-SBS to SELECT BUS CHLSEA PIERS 11 AV via 14 ST': 0.14 Km to W 14 St/10 AV}\n",
      "W 14 St/10 AV {'M14D-SBS to SELECT BUS CHLSEA PIERS 11 AV via 14 ST': 0.268 Km to 11 AV/W 15 ST}\n",
      "11 AV/W 15 ST {'M14D-SBS to SELECT BUS CHLSEA PIERS 11 AV via 14 ST': 0.126 Km to 11 AV / W 17 ST}\n",
      "11 AV / W 17 ST {}\n"
     ]
    }
   ],
   "source": [
    "for stop_name, stop in stop_network.stops.items():\n",
    "    print(stop, stop.edges)"
   ]
  },
  {
   "cell_type": "code",
   "execution_count": 119,
   "metadata": {},
   "outputs": [
    {
     "name": "stdout",
     "output_type": "stream",
     "text": [
      "{'M14D-SBS to SELECT BUS CHLSEA PIERS 11 AV via 14 ST': [DELANCEY ST/COLUMBIA ST, COLUMBIA ST/RIVINGTON ST, AV D/E HOUSTON ST, AV D/E 5 ST, E 10 ST/AV D, AV C/E 11 ST, E 14 ST/AV C, E 14 ST/AV B, E 14 ST/AV A, E 14 ST/1 AV, E 14 ST/2 AV, E 14 ST/3 AV, E 14 ST/4 AV, E 14 ST/UNION SQ W, W 14 ST/5 AV, W 14 ST/6 AV, W 14 ST/7 AV, W 14 ST/8 AV, W 14 ST/9 AV, W 14 St/10 AV, 11 AV/W 15 ST]}\n"
     ]
    }
   ],
   "source": [
    "for route_name, route in stop_network.routes.items():\n",
    "    print(route)"
   ]
  },
  {
   "cell_type": "code",
   "execution_count": 120,
   "metadata": {},
   "outputs": [],
   "source": [
    "stop_network.add_bus(\"M14D-SBS\", direction, \"DELANCEY ST/COLUMBIA ST\", 4950, 10.33)"
   ]
  },
  {
   "cell_type": "code",
   "execution_count": 121,
   "metadata": {},
   "outputs": [
    {
     "name": "stdout",
     "output_type": "stream",
     "text": [
      "4950 0.167 Km from DELANCEY ST/COLUMBIA ST\n"
     ]
    }
   ],
   "source": [
    "stop_network.move_all_buses(1)"
   ]
  },
  {
   "cell_type": "code",
   "execution_count": 137,
   "metadata": {},
   "outputs": [
    {
     "name": "stdout",
     "output_type": "stream",
     "text": [
      "4950 0.318 Km from AV C/E 11 ST\n"
     ]
    }
   ],
   "source": [
    "stop_network.move_all_buses(40)"
   ]
  },
  {
   "cell_type": "code",
   "execution_count": null,
   "metadata": {},
   "outputs": [],
   "source": []
  }
 ],
 "metadata": {
  "kernelspec": {
   "display_name": "Python 3",
   "language": "python",
   "name": "python3"
  },
  "language_info": {
   "codemirror_mode": {
    "name": "ipython",
    "version": 3
   },
   "file_extension": ".py",
   "mimetype": "text/x-python",
   "name": "python",
   "nbconvert_exporter": "python",
   "pygments_lexer": "ipython3",
   "version": "3.8.3"
  }
 },
 "nbformat": 4,
 "nbformat_minor": 4
}
